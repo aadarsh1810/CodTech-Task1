{
  "cells": [
    {
      "cell_type": "markdown",
      "source": [
        "# Import all Important Packages"
      ],
      "metadata": {
        "id": "X-1toVor_xPy"
      }
    },
    {
      "cell_type": "code",
      "source": [
        "from sklearn.linear_model import LinearRegression\n",
        "from sklearn.model_selection import train_test_split\n",
        "import pandas as pd\n",
        "import matplotlib.pyplot as plt\n",
        "import seaborn as sns\n",
        "from sklearn.ensemble import RandomForestRegressor\n",
        "from sklearn.tree import DecisionTreeRegressor\n",
        "from sklearn.metrics import mean_absolute_error, mean_squared_error, r2_score"
      ],
      "metadata": {
        "id": "Jkd2vfw35zDf"
      },
      "execution_count": 1,
      "outputs": []
    },
    {
      "cell_type": "markdown",
      "source": [
        "# Reading the data"
      ],
      "metadata": {
        "id": "dg7tHOU1_7Fi"
      }
    },
    {
      "cell_type": "code",
      "source": [
        "boston_data = pd.read_csv(\"/content/BostonHousing.csv\")\n",
        "\n",
        "# Check whether read_csv is successful or not\n",
        "# Check data format loaded through read_csv\n",
        "boston_data.head()"
      ],
      "metadata": {
        "colab": {
          "base_uri": "https://localhost:8080/",
          "height": 206
        },
        "id": "KBDEu-dy5y_2",
        "outputId": "3a8ef006-59cd-47fc-e3e7-aa2adb5ceb5b"
      },
      "execution_count": 2,
      "outputs": [
        {
          "output_type": "execute_result",
          "data": {
            "text/plain": [
              "      crim    zn  indus  chas    nox     rm   age     dis  rad  tax  ptratio  \\\n",
              "0  0.00632  18.0   2.31     0  0.538  6.575  65.2  4.0900    1  296     15.3   \n",
              "1  0.02731   0.0   7.07     0  0.469  6.421  78.9  4.9671    2  242     17.8   \n",
              "2  0.02729   0.0   7.07     0  0.469  7.185  61.1  4.9671    2  242     17.8   \n",
              "3  0.03237   0.0   2.18     0  0.458  6.998  45.8  6.0622    3  222     18.7   \n",
              "4  0.06905   0.0   2.18     0  0.458  7.147  54.2  6.0622    3  222     18.7   \n",
              "\n",
              "        b  lstat  medv  \n",
              "0  396.90   4.98  24.0  \n",
              "1  396.90   9.14  21.6  \n",
              "2  392.83   4.03  34.7  \n",
              "3  394.63   2.94  33.4  \n",
              "4  396.90   5.33  36.2  "
            ],
            "text/html": [
              "\n",
              "  <div id=\"df-e85d1876-6047-43f1-9e16-001e64aa63fc\" class=\"colab-df-container\">\n",
              "    <div>\n",
              "<style scoped>\n",
              "    .dataframe tbody tr th:only-of-type {\n",
              "        vertical-align: middle;\n",
              "    }\n",
              "\n",
              "    .dataframe tbody tr th {\n",
              "        vertical-align: top;\n",
              "    }\n",
              "\n",
              "    .dataframe thead th {\n",
              "        text-align: right;\n",
              "    }\n",
              "</style>\n",
              "<table border=\"1\" class=\"dataframe\">\n",
              "  <thead>\n",
              "    <tr style=\"text-align: right;\">\n",
              "      <th></th>\n",
              "      <th>crim</th>\n",
              "      <th>zn</th>\n",
              "      <th>indus</th>\n",
              "      <th>chas</th>\n",
              "      <th>nox</th>\n",
              "      <th>rm</th>\n",
              "      <th>age</th>\n",
              "      <th>dis</th>\n",
              "      <th>rad</th>\n",
              "      <th>tax</th>\n",
              "      <th>ptratio</th>\n",
              "      <th>b</th>\n",
              "      <th>lstat</th>\n",
              "      <th>medv</th>\n",
              "    </tr>\n",
              "  </thead>\n",
              "  <tbody>\n",
              "    <tr>\n",
              "      <th>0</th>\n",
              "      <td>0.00632</td>\n",
              "      <td>18.0</td>\n",
              "      <td>2.31</td>\n",
              "      <td>0</td>\n",
              "      <td>0.538</td>\n",
              "      <td>6.575</td>\n",
              "      <td>65.2</td>\n",
              "      <td>4.0900</td>\n",
              "      <td>1</td>\n",
              "      <td>296</td>\n",
              "      <td>15.3</td>\n",
              "      <td>396.90</td>\n",
              "      <td>4.98</td>\n",
              "      <td>24.0</td>\n",
              "    </tr>\n",
              "    <tr>\n",
              "      <th>1</th>\n",
              "      <td>0.02731</td>\n",
              "      <td>0.0</td>\n",
              "      <td>7.07</td>\n",
              "      <td>0</td>\n",
              "      <td>0.469</td>\n",
              "      <td>6.421</td>\n",
              "      <td>78.9</td>\n",
              "      <td>4.9671</td>\n",
              "      <td>2</td>\n",
              "      <td>242</td>\n",
              "      <td>17.8</td>\n",
              "      <td>396.90</td>\n",
              "      <td>9.14</td>\n",
              "      <td>21.6</td>\n",
              "    </tr>\n",
              "    <tr>\n",
              "      <th>2</th>\n",
              "      <td>0.02729</td>\n",
              "      <td>0.0</td>\n",
              "      <td>7.07</td>\n",
              "      <td>0</td>\n",
              "      <td>0.469</td>\n",
              "      <td>7.185</td>\n",
              "      <td>61.1</td>\n",
              "      <td>4.9671</td>\n",
              "      <td>2</td>\n",
              "      <td>242</td>\n",
              "      <td>17.8</td>\n",
              "      <td>392.83</td>\n",
              "      <td>4.03</td>\n",
              "      <td>34.7</td>\n",
              "    </tr>\n",
              "    <tr>\n",
              "      <th>3</th>\n",
              "      <td>0.03237</td>\n",
              "      <td>0.0</td>\n",
              "      <td>2.18</td>\n",
              "      <td>0</td>\n",
              "      <td>0.458</td>\n",
              "      <td>6.998</td>\n",
              "      <td>45.8</td>\n",
              "      <td>6.0622</td>\n",
              "      <td>3</td>\n",
              "      <td>222</td>\n",
              "      <td>18.7</td>\n",
              "      <td>394.63</td>\n",
              "      <td>2.94</td>\n",
              "      <td>33.4</td>\n",
              "    </tr>\n",
              "    <tr>\n",
              "      <th>4</th>\n",
              "      <td>0.06905</td>\n",
              "      <td>0.0</td>\n",
              "      <td>2.18</td>\n",
              "      <td>0</td>\n",
              "      <td>0.458</td>\n",
              "      <td>7.147</td>\n",
              "      <td>54.2</td>\n",
              "      <td>6.0622</td>\n",
              "      <td>3</td>\n",
              "      <td>222</td>\n",
              "      <td>18.7</td>\n",
              "      <td>396.90</td>\n",
              "      <td>5.33</td>\n",
              "      <td>36.2</td>\n",
              "    </tr>\n",
              "  </tbody>\n",
              "</table>\n",
              "</div>\n",
              "    <div class=\"colab-df-buttons\">\n",
              "\n",
              "  <div class=\"colab-df-container\">\n",
              "    <button class=\"colab-df-convert\" onclick=\"convertToInteractive('df-e85d1876-6047-43f1-9e16-001e64aa63fc')\"\n",
              "            title=\"Convert this dataframe to an interactive table.\"\n",
              "            style=\"display:none;\">\n",
              "\n",
              "  <svg xmlns=\"http://www.w3.org/2000/svg\" height=\"24px\" viewBox=\"0 -960 960 960\">\n",
              "    <path d=\"M120-120v-720h720v720H120Zm60-500h600v-160H180v160Zm220 220h160v-160H400v160Zm0 220h160v-160H400v160ZM180-400h160v-160H180v160Zm440 0h160v-160H620v160ZM180-180h160v-160H180v160Zm440 0h160v-160H620v160Z\"/>\n",
              "  </svg>\n",
              "    </button>\n",
              "\n",
              "  <style>\n",
              "    .colab-df-container {\n",
              "      display:flex;\n",
              "      gap: 12px;\n",
              "    }\n",
              "\n",
              "    .colab-df-convert {\n",
              "      background-color: #E8F0FE;\n",
              "      border: none;\n",
              "      border-radius: 50%;\n",
              "      cursor: pointer;\n",
              "      display: none;\n",
              "      fill: #1967D2;\n",
              "      height: 32px;\n",
              "      padding: 0 0 0 0;\n",
              "      width: 32px;\n",
              "    }\n",
              "\n",
              "    .colab-df-convert:hover {\n",
              "      background-color: #E2EBFA;\n",
              "      box-shadow: 0px 1px 2px rgba(60, 64, 67, 0.3), 0px 1px 3px 1px rgba(60, 64, 67, 0.15);\n",
              "      fill: #174EA6;\n",
              "    }\n",
              "\n",
              "    .colab-df-buttons div {\n",
              "      margin-bottom: 4px;\n",
              "    }\n",
              "\n",
              "    [theme=dark] .colab-df-convert {\n",
              "      background-color: #3B4455;\n",
              "      fill: #D2E3FC;\n",
              "    }\n",
              "\n",
              "    [theme=dark] .colab-df-convert:hover {\n",
              "      background-color: #434B5C;\n",
              "      box-shadow: 0px 1px 3px 1px rgba(0, 0, 0, 0.15);\n",
              "      filter: drop-shadow(0px 1px 2px rgba(0, 0, 0, 0.3));\n",
              "      fill: #FFFFFF;\n",
              "    }\n",
              "  </style>\n",
              "\n",
              "    <script>\n",
              "      const buttonEl =\n",
              "        document.querySelector('#df-e85d1876-6047-43f1-9e16-001e64aa63fc button.colab-df-convert');\n",
              "      buttonEl.style.display =\n",
              "        google.colab.kernel.accessAllowed ? 'block' : 'none';\n",
              "\n",
              "      async function convertToInteractive(key) {\n",
              "        const element = document.querySelector('#df-e85d1876-6047-43f1-9e16-001e64aa63fc');\n",
              "        const dataTable =\n",
              "          await google.colab.kernel.invokeFunction('convertToInteractive',\n",
              "                                                    [key], {});\n",
              "        if (!dataTable) return;\n",
              "\n",
              "        const docLinkHtml = 'Like what you see? Visit the ' +\n",
              "          '<a target=\"_blank\" href=https://colab.research.google.com/notebooks/data_table.ipynb>data table notebook</a>'\n",
              "          + ' to learn more about interactive tables.';\n",
              "        element.innerHTML = '';\n",
              "        dataTable['output_type'] = 'display_data';\n",
              "        await google.colab.output.renderOutput(dataTable, element);\n",
              "        const docLink = document.createElement('div');\n",
              "        docLink.innerHTML = docLinkHtml;\n",
              "        element.appendChild(docLink);\n",
              "      }\n",
              "    </script>\n",
              "  </div>\n",
              "\n",
              "\n",
              "<div id=\"df-3a59cf8a-61b8-4ceb-992b-62766688a04a\">\n",
              "  <button class=\"colab-df-quickchart\" onclick=\"quickchart('df-3a59cf8a-61b8-4ceb-992b-62766688a04a')\"\n",
              "            title=\"Suggest charts\"\n",
              "            style=\"display:none;\">\n",
              "\n",
              "<svg xmlns=\"http://www.w3.org/2000/svg\" height=\"24px\"viewBox=\"0 0 24 24\"\n",
              "     width=\"24px\">\n",
              "    <g>\n",
              "        <path d=\"M19 3H5c-1.1 0-2 .9-2 2v14c0 1.1.9 2 2 2h14c1.1 0 2-.9 2-2V5c0-1.1-.9-2-2-2zM9 17H7v-7h2v7zm4 0h-2V7h2v10zm4 0h-2v-4h2v4z\"/>\n",
              "    </g>\n",
              "</svg>\n",
              "  </button>\n",
              "\n",
              "<style>\n",
              "  .colab-df-quickchart {\n",
              "      --bg-color: #E8F0FE;\n",
              "      --fill-color: #1967D2;\n",
              "      --hover-bg-color: #E2EBFA;\n",
              "      --hover-fill-color: #174EA6;\n",
              "      --disabled-fill-color: #AAA;\n",
              "      --disabled-bg-color: #DDD;\n",
              "  }\n",
              "\n",
              "  [theme=dark] .colab-df-quickchart {\n",
              "      --bg-color: #3B4455;\n",
              "      --fill-color: #D2E3FC;\n",
              "      --hover-bg-color: #434B5C;\n",
              "      --hover-fill-color: #FFFFFF;\n",
              "      --disabled-bg-color: #3B4455;\n",
              "      --disabled-fill-color: #666;\n",
              "  }\n",
              "\n",
              "  .colab-df-quickchart {\n",
              "    background-color: var(--bg-color);\n",
              "    border: none;\n",
              "    border-radius: 50%;\n",
              "    cursor: pointer;\n",
              "    display: none;\n",
              "    fill: var(--fill-color);\n",
              "    height: 32px;\n",
              "    padding: 0;\n",
              "    width: 32px;\n",
              "  }\n",
              "\n",
              "  .colab-df-quickchart:hover {\n",
              "    background-color: var(--hover-bg-color);\n",
              "    box-shadow: 0 1px 2px rgba(60, 64, 67, 0.3), 0 1px 3px 1px rgba(60, 64, 67, 0.15);\n",
              "    fill: var(--button-hover-fill-color);\n",
              "  }\n",
              "\n",
              "  .colab-df-quickchart-complete:disabled,\n",
              "  .colab-df-quickchart-complete:disabled:hover {\n",
              "    background-color: var(--disabled-bg-color);\n",
              "    fill: var(--disabled-fill-color);\n",
              "    box-shadow: none;\n",
              "  }\n",
              "\n",
              "  .colab-df-spinner {\n",
              "    border: 2px solid var(--fill-color);\n",
              "    border-color: transparent;\n",
              "    border-bottom-color: var(--fill-color);\n",
              "    animation:\n",
              "      spin 1s steps(1) infinite;\n",
              "  }\n",
              "\n",
              "  @keyframes spin {\n",
              "    0% {\n",
              "      border-color: transparent;\n",
              "      border-bottom-color: var(--fill-color);\n",
              "      border-left-color: var(--fill-color);\n",
              "    }\n",
              "    20% {\n",
              "      border-color: transparent;\n",
              "      border-left-color: var(--fill-color);\n",
              "      border-top-color: var(--fill-color);\n",
              "    }\n",
              "    30% {\n",
              "      border-color: transparent;\n",
              "      border-left-color: var(--fill-color);\n",
              "      border-top-color: var(--fill-color);\n",
              "      border-right-color: var(--fill-color);\n",
              "    }\n",
              "    40% {\n",
              "      border-color: transparent;\n",
              "      border-right-color: var(--fill-color);\n",
              "      border-top-color: var(--fill-color);\n",
              "    }\n",
              "    60% {\n",
              "      border-color: transparent;\n",
              "      border-right-color: var(--fill-color);\n",
              "    }\n",
              "    80% {\n",
              "      border-color: transparent;\n",
              "      border-right-color: var(--fill-color);\n",
              "      border-bottom-color: var(--fill-color);\n",
              "    }\n",
              "    90% {\n",
              "      border-color: transparent;\n",
              "      border-bottom-color: var(--fill-color);\n",
              "    }\n",
              "  }\n",
              "</style>\n",
              "\n",
              "  <script>\n",
              "    async function quickchart(key) {\n",
              "      const quickchartButtonEl =\n",
              "        document.querySelector('#' + key + ' button');\n",
              "      quickchartButtonEl.disabled = true;  // To prevent multiple clicks.\n",
              "      quickchartButtonEl.classList.add('colab-df-spinner');\n",
              "      try {\n",
              "        const charts = await google.colab.kernel.invokeFunction(\n",
              "            'suggestCharts', [key], {});\n",
              "      } catch (error) {\n",
              "        console.error('Error during call to suggestCharts:', error);\n",
              "      }\n",
              "      quickchartButtonEl.classList.remove('colab-df-spinner');\n",
              "      quickchartButtonEl.classList.add('colab-df-quickchart-complete');\n",
              "    }\n",
              "    (() => {\n",
              "      let quickchartButtonEl =\n",
              "        document.querySelector('#df-3a59cf8a-61b8-4ceb-992b-62766688a04a button');\n",
              "      quickchartButtonEl.style.display =\n",
              "        google.colab.kernel.accessAllowed ? 'block' : 'none';\n",
              "    })();\n",
              "  </script>\n",
              "</div>\n",
              "\n",
              "    </div>\n",
              "  </div>\n"
            ],
            "application/vnd.google.colaboratory.intrinsic+json": {
              "type": "dataframe",
              "variable_name": "boston_data",
              "summary": "{\n  \"name\": \"boston_data\",\n  \"rows\": 506,\n  \"fields\": [\n    {\n      \"column\": \"crim\",\n      \"properties\": {\n        \"dtype\": \"number\",\n        \"std\": 8.60154510533249,\n        \"min\": 0.00632,\n        \"max\": 88.9762,\n        \"num_unique_values\": 504,\n        \"samples\": [\n          0.09178,\n          0.05644,\n          0.10574\n        ],\n        \"semantic_type\": \"\",\n        \"description\": \"\"\n      }\n    },\n    {\n      \"column\": \"zn\",\n      \"properties\": {\n        \"dtype\": \"number\",\n        \"std\": 23.32245299451514,\n        \"min\": 0.0,\n        \"max\": 100.0,\n        \"num_unique_values\": 26,\n        \"samples\": [\n          25.0,\n          30.0,\n          18.0\n        ],\n        \"semantic_type\": \"\",\n        \"description\": \"\"\n      }\n    },\n    {\n      \"column\": \"indus\",\n      \"properties\": {\n        \"dtype\": \"number\",\n        \"std\": 6.860352940897585,\n        \"min\": 0.46,\n        \"max\": 27.74,\n        \"num_unique_values\": 76,\n        \"samples\": [\n          8.14,\n          1.47,\n          1.22\n        ],\n        \"semantic_type\": \"\",\n        \"description\": \"\"\n      }\n    },\n    {\n      \"column\": \"chas\",\n      \"properties\": {\n        \"dtype\": \"number\",\n        \"std\": 0,\n        \"min\": 0,\n        \"max\": 1,\n        \"num_unique_values\": 2,\n        \"samples\": [\n          1,\n          0\n        ],\n        \"semantic_type\": \"\",\n        \"description\": \"\"\n      }\n    },\n    {\n      \"column\": \"nox\",\n      \"properties\": {\n        \"dtype\": \"number\",\n        \"std\": 0.11587767566755595,\n        \"min\": 0.385,\n        \"max\": 0.871,\n        \"num_unique_values\": 81,\n        \"samples\": [\n          0.401,\n          0.538\n        ],\n        \"semantic_type\": \"\",\n        \"description\": \"\"\n      }\n    },\n    {\n      \"column\": \"rm\",\n      \"properties\": {\n        \"dtype\": \"number\",\n        \"std\": 0.7026171434153233,\n        \"min\": 3.561,\n        \"max\": 8.78,\n        \"num_unique_values\": 446,\n        \"samples\": [\n          6.849,\n          4.88\n        ],\n        \"semantic_type\": \"\",\n        \"description\": \"\"\n      }\n    },\n    {\n      \"column\": \"age\",\n      \"properties\": {\n        \"dtype\": \"number\",\n        \"std\": 28.148861406903617,\n        \"min\": 2.9,\n        \"max\": 100.0,\n        \"num_unique_values\": 356,\n        \"samples\": [\n          51.8,\n          33.8\n        ],\n        \"semantic_type\": \"\",\n        \"description\": \"\"\n      }\n    },\n    {\n      \"column\": \"dis\",\n      \"properties\": {\n        \"dtype\": \"number\",\n        \"std\": 2.105710126627611,\n        \"min\": 1.1296,\n        \"max\": 12.1265,\n        \"num_unique_values\": 412,\n        \"samples\": [\n          2.2955,\n          4.2515\n        ],\n        \"semantic_type\": \"\",\n        \"description\": \"\"\n      }\n    },\n    {\n      \"column\": \"rad\",\n      \"properties\": {\n        \"dtype\": \"number\",\n        \"std\": 8,\n        \"min\": 1,\n        \"max\": 24,\n        \"num_unique_values\": 9,\n        \"samples\": [\n          7,\n          2\n        ],\n        \"semantic_type\": \"\",\n        \"description\": \"\"\n      }\n    },\n    {\n      \"column\": \"tax\",\n      \"properties\": {\n        \"dtype\": \"number\",\n        \"std\": 168,\n        \"min\": 187,\n        \"max\": 711,\n        \"num_unique_values\": 66,\n        \"samples\": [\n          370,\n          666\n        ],\n        \"semantic_type\": \"\",\n        \"description\": \"\"\n      }\n    },\n    {\n      \"column\": \"ptratio\",\n      \"properties\": {\n        \"dtype\": \"number\",\n        \"std\": 2.1649455237144406,\n        \"min\": 12.6,\n        \"max\": 22.0,\n        \"num_unique_values\": 46,\n        \"samples\": [\n          19.6,\n          15.6\n        ],\n        \"semantic_type\": \"\",\n        \"description\": \"\"\n      }\n    },\n    {\n      \"column\": \"b\",\n      \"properties\": {\n        \"dtype\": \"number\",\n        \"std\": 91.29486438415783,\n        \"min\": 0.32,\n        \"max\": 396.9,\n        \"num_unique_values\": 357,\n        \"samples\": [\n          396.24,\n          395.11\n        ],\n        \"semantic_type\": \"\",\n        \"description\": \"\"\n      }\n    },\n    {\n      \"column\": \"lstat\",\n      \"properties\": {\n        \"dtype\": \"number\",\n        \"std\": 7.141061511348571,\n        \"min\": 1.73,\n        \"max\": 37.97,\n        \"num_unique_values\": 455,\n        \"samples\": [\n          6.15,\n          4.32\n        ],\n        \"semantic_type\": \"\",\n        \"description\": \"\"\n      }\n    },\n    {\n      \"column\": \"medv\",\n      \"properties\": {\n        \"dtype\": \"number\",\n        \"std\": 9.197104087379818,\n        \"min\": 5.0,\n        \"max\": 50.0,\n        \"num_unique_values\": 229,\n        \"samples\": [\n          14.1,\n          22.5\n        ],\n        \"semantic_type\": \"\",\n        \"description\": \"\"\n      }\n    }\n  ]\n}"
            }
          },
          "metadata": {},
          "execution_count": 2
        }
      ]
    },
    {
      "cell_type": "markdown",
      "source": [
        "#Data Wrangling"
      ],
      "metadata": {
        "id": "hyuw86drABXg"
      }
    },
    {
      "cell_type": "code",
      "source": [
        "# Input or independent value\n",
        "X = boston_data.iloc[:, :13]\n",
        "\n",
        "# Output or dependent value\n",
        "Y = boston_data[\"medv\"]"
      ],
      "metadata": {
        "id": "Lb6bqnkX5y93"
      },
      "execution_count": 3,
      "outputs": []
    },
    {
      "cell_type": "markdown",
      "source": [
        "#Data Analysis"
      ],
      "metadata": {
        "id": "MSA8-zHZAFp6"
      }
    },
    {
      "cell_type": "code",
      "source": [
        "# Find correlation between all available columns\n",
        "corr = boston_data.corr()\n",
        "# Find correlated data columns using heatmaps\n",
        "sns.heatmap(corr)\n",
        "plt.show()\n",
        "\n",
        "# Columns which are having correlation +ve and above 0.9 are highly correlated to each other\n",
        "# We can drop any of them since it will not impact on output\n",
        "\n",
        "#Right now I am not dropping any column and trying to predict the output with all input data"
      ],
      "metadata": {
        "colab": {
          "base_uri": "https://localhost:8080/",
          "height": 468
        },
        "id": "VJ0Vk9346I5W",
        "outputId": "47860906-8cce-459d-ceed-47537be4e791"
      },
      "execution_count": 4,
      "outputs": [
        {
          "output_type": "display_data",
          "data": {
            "text/plain": [
              "<Figure size 640x480 with 2 Axes>"
            ],
            "image/png": "[encoded data removed]"
          },
          "metadata": {}
        }
      ]
    },
    {
      "cell_type": "markdown",
      "source": [
        "# Splitting data for training and testing"
      ],
      "metadata": {
        "id": "ji8L1KHKAKbc"
      }
    },
    {
      "cell_type": "code",
      "source": [
        "x_train, x_test, y_train, y_test = train_test_split(X, Y, test_size=.30, random_state=10)"
      ],
      "metadata": {
        "id": "xC6cOras6uvX"
      },
      "execution_count": 5,
      "outputs": []
    },
    {
      "cell_type": "markdown",
      "source": [
        "#Applying Regression Models"
      ],
      "metadata": {
        "id": "Bx3SruNnAOLR"
      }
    },
    {
      "cell_type": "markdown",
      "source": [
        "1. Linear Regression"
      ],
      "metadata": {
        "id": "spmkU2_iAU3w"
      }
    },
    {
      "cell_type": "code",
      "source": [
        "# model instantiation\n",
        "linear_model = LinearRegression()\n",
        "\n",
        "# fit the model with input and corresponding output data\n",
        "linear_model.fit(x_train, y_train)"
      ],
      "metadata": {
        "colab": {
          "base_uri": "https://localhost:8080/",
          "height": 74
        },
        "id": "wBvFINMJ6wQ8",
        "outputId": "d74b0884-d1e9-4126-ba11-9bb874780006"
      },
      "execution_count": 6,
      "outputs": [
        {
          "output_type": "execute_result",
          "data": {
            "text/plain": [
              "LinearRegression()"
            ],
            "text/html": [
              "<style>#sk-container-id-1 {color: black;background-color: white;}#sk-container-id-1 pre{padding: 0;}#sk-container-id-1 div.sk-toggleable {background-color: white;}#sk-container-id-1 label.sk-toggleable__label {cursor: pointer;display: block;width: 100%;margin-bottom: 0;padding: 0.3em;box-sizing: border-box;text-align: center;}#sk-container-id-1 label.sk-toggleable__label-arrow:before {content: \"▸\";float: left;margin-right: 0.25em;color: #696969;}#sk-container-id-1 label.sk-toggleable__label-arrow:hover:before {color: black;}#sk-container-id-1 div.sk-estimator:hover label.sk-toggleable__label-arrow:before {color: black;}#sk-container-id-1 div.sk-toggleable__content {max-height: 0;max-width: 0;overflow: hidden;text-align: left;background-color: #f0f8ff;}#sk-container-id-1 div.sk-toggleable__content pre {margin: 0.2em;color: black;border-radius: 0.25em;background-color: #f0f8ff;}#sk-container-id-1 input.sk-toggleable__control:checked~div.sk-toggleable__content {max-height: 200px;max-width: 100%;overflow: auto;}#sk-container-id-1 input.sk-toggleable__control:checked~label.sk-toggleable__label-arrow:before {content: \"▾\";}#sk-container-id-1 div.sk-estimator input.sk-toggleable__control:checked~label.sk-toggleable__label {background-color: #d4ebff;}#sk-container-id-1 div.sk-label input.sk-toggleable__control:checked~label.sk-toggleable__label {background-color: #d4ebff;}#sk-container-id-1 input.sk-hidden--visually {border: 0;clip: rect(1px 1px 1px 1px);clip: rect(1px, 1px, 1px, 1px);height: 1px;margin: -1px;overflow: hidden;padding: 0;position: absolute;width: 1px;}#sk-container-id-1 div.sk-estimator {font-family: monospace;background-color: #f0f8ff;border: 1px dotted black;border-radius: 0.25em;box-sizing: border-box;margin-bottom: 0.5em;}#sk-container-id-1 div.sk-estimator:hover {background-color: #d4ebff;}#sk-container-id-1 div.sk-parallel-item::after {content: \"\";width: 100%;border-bottom: 1px solid gray;flex-grow: 1;}#sk-container-id-1 div.sk-label:hover label.sk-toggleable__label {background-color: #d4ebff;}#sk-container-id-1 div.sk-serial::before {content: \"\";position: absolute;border-left: 1px solid gray;box-sizing: border-box;top: 0;bottom: 0;left: 50%;z-index: 0;}#sk-container-id-1 div.sk-serial {display: flex;flex-direction: column;align-items: center;background-color: white;padding-right: 0.2em;padding-left: 0.2em;position: relative;}#sk-container-id-1 div.sk-item {position: relative;z-index: 1;}#sk-container-id-1 div.sk-parallel {display: flex;align-items: stretch;justify-content: center;background-color: white;position: relative;}#sk-container-id-1 div.sk-item::before, #sk-container-id-1 div.sk-parallel-item::before {content: \"\";position: absolute;border-left: 1px solid gray;box-sizing: border-box;top: 0;bottom: 0;left: 50%;z-index: -1;}#sk-container-id-1 div.sk-parallel-item {display: flex;flex-direction: column;z-index: 1;position: relative;background-color: white;}#sk-container-id-1 div.sk-parallel-item:first-child::after {align-self: flex-end;width: 50%;}#sk-container-id-1 div.sk-parallel-item:last-child::after {align-self: flex-start;width: 50%;}#sk-container-id-1 div.sk-parallel-item:only-child::after {width: 0;}#sk-container-id-1 div.sk-dashed-wrapped {border: 1px dashed gray;margin: 0 0.4em 0.5em 0.4em;box-sizing: border-box;padding-bottom: 0.4em;background-color: white;}#sk-container-id-1 div.sk-label label {font-family: monospace;font-weight: bold;display: inline-block;line-height: 1.2em;}#sk-container-id-1 div.sk-label-container {text-align: center;}#sk-container-id-1 div.sk-container {/* jupyter's `normalize.less` sets `[hidden] { display: none; }` but bootstrap.min.css set `[hidden] { display: none !important; }` so we also need the `!important` here to be able to override the default hidden behavior on the sphinx rendered scikit-learn.org. See: https://github.com/scikit-learn/scikit-learn/issues/21755 */display: inline-block !important;position: relative;}#sk-container-id-1 div.sk-text-repr-fallback {display: none;}</style><div id=\"sk-container-id-1\" class=\"sk-top-container\"><div class=\"sk-text-repr-fallback\"><pre>LinearRegression()</pre><b>In a Jupyter environment, please rerun this cell to show the HTML representation or trust the notebook. <br />On GitHub, the HTML representation is unable to render, please try loading this page with nbviewer.org.</b></div><div class=\"sk-container\" hidden><div class=\"sk-item\"><div class=\"sk-estimator sk-toggleable\"><input class=\"sk-toggleable__control sk-hidden--visually\" id=\"sk-estimator-id-1\" type=\"checkbox\" checked><label for=\"sk-estimator-id-1\" class=\"sk-toggleable__label sk-toggleable__label-arrow\">LinearRegression</label><div class=\"sk-toggleable__content\"><pre>LinearRegression()</pre></div></div></div></div></div>"
            ]
          },
          "metadata": {},
          "execution_count": 6
        }
      ]
    },
    {
      "cell_type": "code",
      "source": [
        "lr_predictions = linear_model.predict(x_test)\n",
        "print(\"Predicted House Prices\")\n",
        "print(lr_predictions)"
      ],
      "metadata": {
        "colab": {
          "base_uri": "https://localhost:8080/"
        },
        "id": "P012tx0w6wxy",
        "outputId": "9eae4a4e-1370-444c-cca0-54e79cfea7c0"
      },
      "execution_count": 8,
      "outputs": [
        {
          "output_type": "stream",
          "name": "stdout",
          "text": [
            "Predicted House Prices\n",
            "[31.4243217  31.96785487 30.93785448 22.34313349 18.83846235 16.20617519\n",
            " 35.92908162 14.74157477 25.07700756 37.13230282 21.47652971 30.92661826\n",
            " 28.07823424 34.02599249 33.7778476  40.63701192 24.25899783 23.43019291\n",
            " 25.547906   21.34469147 32.65467539 17.80506124 25.46149722 25.0207691\n",
            " 32.51742137 20.51357936 19.47165255 16.87107974 38.44316206  0.3888111\n",
            " 32.39559257 32.15518102 26.05305015 23.82049084 20.56494632 19.66990981\n",
            "  3.53212643 35.21058387 27.03280773 27.67994129 34.36642896 29.82003002\n",
            " 18.31717228 31.55109654 17.93465111 28.4618882  19.39950216 21.60782793\n",
            " 38.10391926 16.45101411 24.51003632 19.57072199 24.53359986 34.34589029\n",
            " 26.74381857 34.86340026 21.02859444 19.77400901 18.68461884 24.64911818\n",
            " 19.89923131 23.52871967 39.56690084 42.81848202 30.38116596 16.96889789\n",
            " 23.83550068  3.18952008 31.52469303 28.66536677 18.40003941 27.1252398\n",
            " 19.56625808 25.28579071 25.04642543 10.30562974 38.97693514  8.17901104\n",
            " 18.51160158 30.32060192 22.85826904 20.98739809 20.03256896 28.70004491\n",
            " 30.83986409 28.22575374 26.26715448 31.56221764 22.16821072 -6.40058282\n",
            " 21.56768106 19.91022274 24.98025707 23.46247865 19.27692546 18.74766072\n",
            " 27.39474857 22.21870161 26.82617865 23.38366235 23.91947259 19.26003338\n",
            " 21.09721048 10.97767848 13.82483416 20.72378817 23.53977916 13.92807616\n",
            " 28.87070782 15.75931299 15.18847286 22.31904753 26.57865025 28.92895886\n",
            " 24.2980433  18.18585276 16.29471281 17.40018499 15.5361744  21.171008\n",
            " 33.71665888 30.02422884 21.13474092 13.93326869 16.19662736 29.30890971\n",
            " 13.1822158  22.06473155 24.33753588 31.89978763 33.44295992  5.90754764\n",
            " 35.2142013  24.1925307  17.45166483 24.25550318 28.41864261 34.52462088\n",
            "  6.2544935   2.12089952 28.40739835 12.49858357 18.22016397 19.69247114\n",
            "  5.52373677 14.45613717 37.18224665 25.78695839 23.32233462 26.36634945\n",
            " 11.47817153 20.44901468]\n"
          ]
        }
      ]
    },
    {
      "cell_type": "code",
      "source": [
        "predicted_dataframe = pd.DataFrame(\n",
        "    {\"Predicted_Prices\": lr_predictions, \"Actual_Prices\": y_test})\n",
        "print(\"Predicted and Actual Price Data frame\")\n",
        "print(predicted_dataframe)"
      ],
      "metadata": {
        "colab": {
          "base_uri": "https://localhost:8080/"
        },
        "id": "NthwZhXb68OL",
        "outputId": "019ddd2e-c599-4e58-abc3-1ea4f526e115"
      },
      "execution_count": 9,
      "outputs": [
        {
          "output_type": "stream",
          "name": "stdout",
          "text": [
            "Predicted and Actual Price Data frame\n",
            "     Predicted_Prices  Actual_Prices\n",
            "305         31.424322           28.4\n",
            "193         31.967855           31.1\n",
            "65          30.937854           23.5\n",
            "349         22.343133           26.6\n",
            "151         18.838462           19.6\n",
            "..                ...            ...\n",
            "56          25.786958           24.7\n",
            "37          23.322335           21.0\n",
            "66          26.366349           19.4\n",
            "427         11.478172           10.9\n",
            "12          20.449015           21.7\n",
            "\n",
            "[152 rows x 2 columns]\n"
          ]
        }
      ]
    },
    {
      "cell_type": "markdown",
      "source": [
        "2. Random Forest Regressor"
      ],
      "metadata": {
        "id": "Nt1clh86AhI7"
      }
    },
    {
      "cell_type": "code",
      "source": [
        "rf_model = RandomForestRegressor(random_state=42)\n",
        "rf_model.fit(x_train, y_train)\n",
        "rf_predictions = rf_model.predict(x_test)\n",
        "print(\"Predicted House Prices Using Random Forest Regressor\")\n",
        "print(rf_predictions)"
      ],
      "metadata": {
        "colab": {
          "base_uri": "https://localhost:8080/"
        },
        "id": "5RtEvVBX6-9E",
        "outputId": "a64a0caf-2905-4470-b7b3-8e88cfc8a7d0"
      },
      "execution_count": 10,
      "outputs": [
        {
          "output_type": "stream",
          "name": "stdout",
          "text": [
            "Predicted House Prices Using Random Forest Regressor\n",
            "[24.729 28.77  26.252 28.486 19.603 15.305 43.506 15.45  20.634 46.114\n",
            " 19.941 26.347 24.12  31.504 30.971 43.756 24.932 21.124 21.371 17.218\n",
            " 33.597 14.965 21.306 24.198 35.541 19.508 18.637 15.429 44.226 13.445\n",
            " 31.583 31.686 24.21  24.759 16.317 20.304  9.518 34.696 24.045 22.334\n",
            " 42.916 25.817 10.317 28.862 20.012 26.93  20.602 20.396 48.806 17.116\n",
            " 19.977 13.93  20.571 45.905 27.287 33.602 19.937 20.767 20.463 27.723\n",
            " 20.02  20.571 46.306 42.805 25.928 15.803 23.29   8.866 26.987 40.229\n",
            " 14.83  26.26  19.327 41.298 24.993 17.276 41.167  9.141 19.662 30.847\n",
            " 19.621 23.841 19.521 23.538 30.826 30.211 23.927 33.192 25.876  6.779\n",
            " 25.688 18.952 22.114 24.123 19.325 18.345 25.066 21.268 20.713 19.731\n",
            " 22.256 19.457 21.055 18.943 14.181 20.891 18.892 15.268 29.42  19.193\n",
            "  9.851 19.192 24.192 25.609 20.699 11.135 18.854 20.242 16.053 20.975\n",
            " 37.612 33.568 21.24  14.347 17.877 22.685 12.834 20.024 22.603 32.919\n",
            " 29.066  6.207 30.951 31.559 13.188 24.049 23.466 34.134  7.975  8.236\n",
            " 26.978  9.312 14.285 20.549  7.176 16.008 39.449 23.398 21.473 20.322\n",
            " 15.041 20.363]\n"
          ]
        }
      ]
    },
    {
      "cell_type": "code",
      "source": [
        "predicted_dataframe = pd.DataFrame(\n",
        "    {\"Predicted_Prices\": rf_predictions, \"Actual_Prices\": y_test})\n",
        "print(\"Predicted and Actual Price Data frame\")\n",
        "print(predicted_dataframe)"
      ],
      "metadata": {
        "colab": {
          "base_uri": "https://localhost:8080/"
        },
        "id": "W36U-uFi8vwx",
        "outputId": "1d13ba16-abfa-4c4d-e0d9-7ffaa4f5e97d"
      },
      "execution_count": 11,
      "outputs": [
        {
          "output_type": "stream",
          "name": "stdout",
          "text": [
            "Predicted and Actual Price Data frame\n",
            "     Predicted_Prices  Actual_Prices\n",
            "305            24.729           28.4\n",
            "193            28.770           31.1\n",
            "65             26.252           23.5\n",
            "349            28.486           26.6\n",
            "151            19.603           19.6\n",
            "..                ...            ...\n",
            "56             23.398           24.7\n",
            "37             21.473           21.0\n",
            "66             20.322           19.4\n",
            "427            15.041           10.9\n",
            "12             20.363           21.7\n",
            "\n",
            "[152 rows x 2 columns]\n"
          ]
        }
      ]
    },
    {
      "cell_type": "markdown",
      "source": [
        "3. Decision Tree Regression"
      ],
      "metadata": {
        "id": "1rOa7N4qAkpc"
      }
    },
    {
      "cell_type": "code",
      "source": [
        "dt_model = DecisionTreeRegressor(random_state=42)\n",
        "dt_model.fit(x_train, y_train)\n",
        "dt_predictions = dt_model.predict(x_test)\n",
        "print(\"Predicted House Prices Using Decision Trees\")\n",
        "print(rf_predictions)"
      ],
      "metadata": {
        "colab": {
          "base_uri": "https://localhost:8080/"
        },
        "id": "qKPa8cN887fx",
        "outputId": "8727890d-52bf-42a0-92eb-09f0147a86f9"
      },
      "execution_count": 12,
      "outputs": [
        {
          "output_type": "stream",
          "name": "stdout",
          "text": [
            "Predicted House Prices Using Decision Trees\n",
            "[24.729 28.77  26.252 28.486 19.603 15.305 43.506 15.45  20.634 46.114\n",
            " 19.941 26.347 24.12  31.504 30.971 43.756 24.932 21.124 21.371 17.218\n",
            " 33.597 14.965 21.306 24.198 35.541 19.508 18.637 15.429 44.226 13.445\n",
            " 31.583 31.686 24.21  24.759 16.317 20.304  9.518 34.696 24.045 22.334\n",
            " 42.916 25.817 10.317 28.862 20.012 26.93  20.602 20.396 48.806 17.116\n",
            " 19.977 13.93  20.571 45.905 27.287 33.602 19.937 20.767 20.463 27.723\n",
            " 20.02  20.571 46.306 42.805 25.928 15.803 23.29   8.866 26.987 40.229\n",
            " 14.83  26.26  19.327 41.298 24.993 17.276 41.167  9.141 19.662 30.847\n",
            " 19.621 23.841 19.521 23.538 30.826 30.211 23.927 33.192 25.876  6.779\n",
            " 25.688 18.952 22.114 24.123 19.325 18.345 25.066 21.268 20.713 19.731\n",
            " 22.256 19.457 21.055 18.943 14.181 20.891 18.892 15.268 29.42  19.193\n",
            "  9.851 19.192 24.192 25.609 20.699 11.135 18.854 20.242 16.053 20.975\n",
            " 37.612 33.568 21.24  14.347 17.877 22.685 12.834 20.024 22.603 32.919\n",
            " 29.066  6.207 30.951 31.559 13.188 24.049 23.466 34.134  7.975  8.236\n",
            " 26.978  9.312 14.285 20.549  7.176 16.008 39.449 23.398 21.473 20.322\n",
            " 15.041 20.363]\n"
          ]
        }
      ]
    },
    {
      "cell_type": "code",
      "source": [
        "predicted_dataframe = pd.DataFrame(\n",
        "    {\"Predicted_Prices\": dt_predictions, \"Actual_Prices\": y_test})\n",
        "print(\"Predicted and Actual Price Data frame\")\n",
        "print(predicted_dataframe)"
      ],
      "metadata": {
        "colab": {
          "base_uri": "https://localhost:8080/"
        },
        "id": "Hg0Ofgup9REI",
        "outputId": "c3561dd3-65f2-4d77-bd15-bdf09dd40b96"
      },
      "execution_count": 13,
      "outputs": [
        {
          "output_type": "stream",
          "name": "stdout",
          "text": [
            "Predicted and Actual Price Data frame\n",
            "     Predicted_Prices  Actual_Prices\n",
            "305              26.5           28.4\n",
            "193              24.0           31.1\n",
            "65               23.7           23.5\n",
            "349              25.0           26.6\n",
            "151              20.8           19.6\n",
            "..                ...            ...\n",
            "56               21.9           24.7\n",
            "37               24.7           21.0\n",
            "66               21.1           19.4\n",
            "427              11.7           10.9\n",
            "12               18.9           21.7\n",
            "\n",
            "[152 rows x 2 columns]\n"
          ]
        }
      ]
    },
    {
      "cell_type": "markdown",
      "source": [
        "# Defining Metrics for Evaluation"
      ],
      "metadata": {
        "id": "UxYsGbPKAqHI"
      }
    },
    {
      "cell_type": "code",
      "source": [
        "# Linear Regression\n",
        "lr_mae = mean_absolute_error(y_test, lr_predictions)\n",
        "lr_rmse = mean_squared_error(y_test, lr_predictions, squared=False)\n",
        "lr_r2 = r2_score(y_test, lr_predictions)\n",
        "\n",
        "# Decision Tree\n",
        "dt_mae = mean_absolute_error(y_test, dt_predictions)\n",
        "dt_rmse = mean_squared_error(y_test, dt_predictions, squared=False)\n",
        "dt_r2 = r2_score(y_test, dt_predictions)\n",
        "\n",
        "# Random Forest\n",
        "rf_mae = mean_absolute_error(y_test, rf_predictions)\n",
        "rf_rmse = mean_squared_error(y_test, rf_predictions, squared=False)\n",
        "rf_r2 = r2_score(y_test, rf_predictions)\n"
      ],
      "metadata": {
        "id": "Vwoev1pG9WN3"
      },
      "execution_count": 14,
      "outputs": []
    },
    {
      "cell_type": "markdown",
      "source": [
        "#Comparison Between Models using Evaluation Metrics"
      ],
      "metadata": {
        "id": "V4oEpMc2A7l7"
      }
    },
    {
      "cell_type": "code",
      "source": [
        "print(\"\\nEvaluation Metrics:\")\n",
        "print(\"Linear Regression:\")\n",
        "print(\"  MAE:\", lr_mae)\n",
        "print(\"  RMSE:\", lr_rmse)\n",
        "print(\"  R2 Score:\", lr_r2)\n",
        "\n",
        "print(\"\\nDecision Tree:\")\n",
        "print(\"  MAE:\", dt_mae)\n",
        "print(\"  RMSE:\", dt_rmse)\n",
        "print(\"  R2 Score:\", dt_r2)\n",
        "\n",
        "print(\"\\nRandom Forest:\")\n",
        "print(\"  MAE:\", rf_mae)\n",
        "print(\"  RMSE:\", rf_rmse)\n",
        "print(\"  R2 Score:\", rf_r2)"
      ],
      "metadata": {
        "colab": {
          "base_uri": "https://localhost:8080/"
        },
        "id": "N_ear_lv-ZKA",
        "outputId": "cb6cbaef-6f82-4e46-9b72-bbb0ccb8ca57"
      },
      "execution_count": 15,
      "outputs": [
        {
          "output_type": "stream",
          "name": "stdout",
          "text": [
            "\n",
            "Evaluation Metrics:\n",
            "Linear Regression:\n",
            "  MAE: 3.70712713727182\n",
            "  RMSE: 5.415403634644724\n",
            "  R2 Score: 0.6996255772983111\n",
            "\n",
            "Decision Tree:\n",
            "  MAE: 2.9440789473684212\n",
            "  RMSE: 4.257895143451935\n",
            "  R2 Score: 0.8143088485786317\n",
            "\n",
            "Random Forest:\n",
            "  MAE: 2.4597499999999983\n",
            "  RMSE: 3.501828402120059\n",
            "  R2 Score: 0.8743996046182325\n"
          ]
        }
      ]
    },
    {
      "cell_type": "markdown",
      "source": [
        "#### ***After analyzing these models, random forest model proved better because of their better performance metrics (lower MAE, RMSE, and higher R2 score).***"
      ],
      "metadata": {
        "id": "cOWhs8R0BuoE"
      }
    }
  ],
  "metadata": {
    "colab": {
      "provenance": []
    },
    "kernelspec": {
      "display_name": "Python 3",
      "name": "python3"
    },
    "language_info": {
      "name": "python"
    }
  },
  "nbformat": 4,
  "nbformat_minor": 0
}